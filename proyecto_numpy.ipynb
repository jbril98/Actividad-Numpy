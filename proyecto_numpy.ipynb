{
 "cells": [
  {
   "cell_type": "code",
   "execution_count": null,
   "metadata": {},
   "outputs": [],
   "source": [
    "import numpy as np\n",
    "import matplotlib.pyplot as plt"
   ]
  },
  {
   "attachments": {},
   "cell_type": "markdown",
   "metadata": {},
   "source": [
    "En primer lugar cargamos el archivo 1"
   ]
  },
  {
   "cell_type": "code",
   "execution_count": null,
   "metadata": {},
   "outputs": [],
   "source": [
    "#Importamos los datos poniendo como dtype=none, de esta manera el ya nos detecta el tipo de datos por defecto. \n",
    "data = np.genfromtxt('/Users/Joan/Documents/mis proyectos/Tecnologias/Proyecto numpy/fenomeno_demografico.csv', delimiter=';', names=True, dtype=None, encoding='utf-8')\n",
    "#Veamos las 5 primeras filas:\n",
    "print(data[:5])\n",
    "\n",
    "#Otra manera de importar el dataset sería introduciendo manualmente el tipo de datos de cada columna:\n",
    "data = np.genfromtxt('/Users/Joan/Documents/mis proyectos/Tecnologias/Proyecto numpy/fenomeno_demografico.csv', delimiter=';', names=True, dtype=[('Municipios', 'U60'), ('Fenómeno demográfico', 'U60'),('Total', 'i4')], encoding='utf-8-sig')\n"
   ]
  },
  {
   "attachments": {},
   "cell_type": "markdown",
   "metadata": {},
   "source": [
    "Podemos ver algunas funciones que nos sirven para analizar la matriz de datos y familiarizarnos con el dataset que tenemos para poder trabajar mejor con los datos:"
   ]
  },
  {
   "cell_type": "code",
   "execution_count": null,
   "metadata": {},
   "outputs": [],
   "source": [
    "print(data.shape) #Devuelve una tupla que indica el tamaño (es decir, el número de elementos en cada dimensión) de la estructura de datos. En este caso la matriz tiene 335 elementos y solo una dimensión.\n",
    "print(data.size) #Devuelve el número total de elementos en un array. En nuestro caso 335 elementos\n",
    "print(data.ndim) #Devuelve un número entero que indica la cantidad de dimensiones en un array. En este caso hemos cogido la matriz con solo 1 dimensión. Con los otros indicadores lo haremos con 2 dimensiones.\n",
    "print(data.dtype) #Devuelve un objeto que describe el tipo de datos de los elementos en el array. El carácter U indica que se trata de un tipo de datos Unicode, y el número adjunto indica la longitud fija de las cadenas. '<f8' es el tipo de dato que indica que los elementos en el array son números de punto flotante de 64 bits (double precision)\n",
    "\n",
    "#A continuación vamos a ver como ha detectado con numpy el nombre de las columnas:\n",
    "column_names = data.dtype.names\n",
    "print(column_names)"
   ]
  },
  {
   "attachments": {},
   "cell_type": "markdown",
   "metadata": {},
   "source": [
    "Indicador 1"
   ]
  },
  {
   "cell_type": "code",
   "execution_count": null,
   "metadata": {},
   "outputs": [],
   "source": [
    "#Ordenamos los diferentes pueblos de menor a mayor según el crecimiento vegetativo de cada uno de ellos:\n",
    "\n",
    "crecimiento_vegetativo = data[data['Fenómeno_demográfico'] == 'crecimiento vegetativo']\n",
    "crecimiento_vegetativo_sorted = np.sort(crecimiento_vegetativo, order='Total')\n",
    "print(crecimiento_vegetativo_sorted)"
   ]
  },
  {
   "attachments": {},
   "cell_type": "markdown",
   "metadata": {},
   "source": [
    "Indicador 2"
   ]
  },
  {
   "cell_type": "code",
   "execution_count": null,
   "metadata": {},
   "outputs": [],
   "source": [
    "#Media de nacidos vivos por residencia materna\n",
    "\n",
    "nacidos_residencia_materna = data[data['Fenómeno_demográfico'] == 'nacidos vivos por residencia materna']\n",
    "media_nacidos_residencia_materna = np.mean(nacidos_residencia_materna['Total'])\n",
    "print(media_nacidos_residencia_materna)"
   ]
  },
  {
   "attachments": {},
   "cell_type": "markdown",
   "metadata": {},
   "source": [
    "Indicador 3"
   ]
  },
  {
   "cell_type": "code",
   "execution_count": null,
   "metadata": {},
   "outputs": [],
   "source": [
    "#Número máximo de muertes fetales tardías por residencia materna:\n",
    "muertes_fetales = data[data['Fenómeno_demográfico'] == 'muertes fetales tardías por residencia materna']\n",
    "max_muertes_fetales =np.amax(muertes_fetales['Total'])\n",
    "print(max_muertes_fetales)\n"
   ]
  },
  {
   "attachments": {},
   "cell_type": "markdown",
   "metadata": {},
   "source": [
    "Indicador 4"
   ]
  },
  {
   "cell_type": "code",
   "execution_count": null,
   "metadata": {},
   "outputs": [],
   "source": [
    "#Desviación típica de matrimonios por el lugar en el que han fijado la residencia:\n",
    "matrimonios_lugar_residencia = data[data['Fenómeno_demográfico'] == 'matrimonios por el lugar en que han fijado residencia']\n",
    "dt_matrimonios_lugar_residencia = np.std(matrimonios_lugar_residencia['Total'])\n",
    "print(dt_matrimonios_lugar_residencia)\n"
   ]
  },
  {
   "attachments": {},
   "cell_type": "markdown",
   "metadata": {},
   "source": [
    "Cargamos el archivo 2"
   ]
  },
  {
   "cell_type": "code",
   "execution_count": null,
   "metadata": {},
   "outputs": [],
   "source": [
    "#Con estas dos maneras de cargar el archivo me da error por lo que en la celda posterior propongo otra manera de cargar el csv.\n",
    "data2 = np.genfromtxt('/Users/Joan/Documents/mis proyectos/Tecnologias/Proyecto numpy/lista_viviendas.csv', delimiter=';', dtype=None, names=True ,encoding='utf-8' )\n",
    "print(data2[:5])\n",
    "\n",
    "#En esta segunda manera he probado de introducir manualmente cada tipo de dato pero también saltan errores.\n",
    "datos2 = np.loadtxt('/Users/Joan/Documents/mis proyectos/Tecnologias/Proyecto numpy/lista_viviendas.csv', delimiter=';', encoding='utf-8', dtype=[('borough', 'U'), ('boro', float), ('block', float),('lot', float), ('bbl', float), ('hnum_lo', 'U'), ('hnum_hi', 'U'), ('str_name','U'), ('crfn', float), ('grantee','U'), ('deed_date','U'), ('price', float), ('cap_rate', float), ('borough_cap_rate', float), ('yearqtr', 'U'), ('Postcode', float), ('Latitude', float), ('Longitude', float), ('Community Board', 'U'), ('Council District', 'U'), ('Census Tract', 'U'), ('BIN', float), ('NTA', 'U'), ('Location1', 'U')], usecols=[0,1,2,3,4,5,6,7,8,9,10,11,12,13,14,15,16,17,18,19,20,21,22,23])\n"
   ]
  },
  {
   "cell_type": "code",
   "execution_count": null,
   "metadata": {},
   "outputs": [],
   "source": [
    "#Otra manera que he encontrado de cargar el dataset que ha funcionado\n",
    "import csv\n",
    "\n",
    "# Abrir el archivo y crear un objeto CSV lejible\n",
    "with open('/Users/Joan/Documents/mis proyectos/Tecnologias/Proyecto numpy/lista_viviendas.csv', 'r') as f:\n",
    "    reader = csv.reader(f, delimiter=',')\n",
    "    \n",
    "    # Saltar la fila de cabezera\n",
    "    next(reader)\n",
    "    \n",
    "    # Inicializar una lista vacía para guardar los datos\n",
    "    data2 = []\n",
    "    \n",
    "    # Iterar sobre las filas del fichero\n",
    "    for row in reader:\n",
    "        # Omitir las filas con un número incorrecto de columnas\n",
    "        if len(row) != 24:\n",
    "            continue\n",
    "        # Procesar la fila y añadirla a la lista de datos\n",
    "        data2.append(row)\n",
    "\n",
    "# Convertir la lista de datos en una matriz numpy\n",
    "data2 = np.array(data2)\n",
    "\n",
    "\n",
    "print(data2[:5])"
   ]
  },
  {
   "cell_type": "code",
   "execution_count": null,
   "metadata": {},
   "outputs": [],
   "source": [
    "print(data2.shape)\n",
    "print(data2.size)\n",
    "print(data2.ndim)\n",
    "print(data2.dtype)\n",
    "\n",
    "\n",
    "column_names2 = data2.dtype.names\n",
    "\n",
    "print(column_names2)"
   ]
  },
  {
   "attachments": {},
   "cell_type": "markdown",
   "metadata": {},
   "source": [
    "Indicador 1"
   ]
  },
  {
   "cell_type": "code",
   "execution_count": null,
   "metadata": {},
   "outputs": [],
   "source": [
    "#quiero obtener el precio máximo de una vivienda\n",
    "precios = data2[:, 11]\n",
    "print(precios)\n",
    "\n",
    "#hay que pasar a float ya que numpy.max() es una función que está diseñada para trabajar con números y no con strings\n",
    "precios = [float(i) for i in precios]\n",
    "max_precio = np.max(precios)\n",
    "print(max_precio)"
   ]
  },
  {
   "cell_type": "code",
   "execution_count": null,
   "metadata": {},
   "outputs": [],
   "source": [
    "#Vamos a crear un gráfico de barras para todos los precios de las viviendas\n",
    "plt.bar(range(len(precios)), precios)\n",
    "plt.show()"
   ]
  },
  {
   "attachments": {},
   "cell_type": "markdown",
   "metadata": {},
   "source": [
    "Indicador 2"
   ]
  },
  {
   "cell_type": "code",
   "execution_count": null,
   "metadata": {},
   "outputs": [],
   "source": [
    "#Vamos a buscar que municipio se repite más veces para ver dónde hay más ventas de viviendas en las que hay potencial para la especulación\n",
    "municipios = data2[:, 0]\n",
    "print(municipios)\n",
    "unique, counts = np.unique(municipios, return_counts=True)\n",
    "freq = dict(zip(unique, counts))\n",
    "municipio_mas_repetido = max(freq, key=freq.get)\n",
    "print(municipio_mas_repetido)"
   ]
  },
  {
   "attachments": {},
   "cell_type": "markdown",
   "metadata": {},
   "source": [
    "Indicador 3"
   ]
  },
  {
   "cell_type": "code",
   "execution_count": null,
   "metadata": {},
   "outputs": [],
   "source": [
    "#Supongamos que nos interesa saber todas las calles que empiezen con la letra \"A\"\n",
    "calles = data2[:, 7]\n",
    "print(calles)\n",
    "calles_A = [i for i in calles if i.lower().startswith(\"a\")]\n",
    "\n",
    "print(calles_A)"
   ]
  },
  {
   "attachments": {},
   "cell_type": "markdown",
   "metadata": {},
   "source": [
    "Indicador 4"
   ]
  },
  {
   "cell_type": "code",
   "execution_count": null,
   "metadata": {},
   "outputs": [],
   "source": [
    "#Queremos ordenar la tasa de capitalización ordenada de menor a mayor\n",
    "tasa_de_capitalizacion = data2[:, 12]\n",
    "print(tasa_de_capitalizacion)\n",
    "\n",
    "tasa_de_capitalizacion = [float(i) for i in tasa_de_capitalizacion]\n",
    "\n",
    "tasa_de_capitalizacion_ordenada = np.sort(tasa_de_capitalizacion)\n",
    "print(tasa_de_capitalizacion_ordenada)\n",
    "\n",
    "\n"
   ]
  },
  {
   "attachments": {},
   "cell_type": "markdown",
   "metadata": {},
   "source": [
    "Cargamos el archivo 3"
   ]
  },
  {
   "cell_type": "code",
   "execution_count": null,
   "metadata": {},
   "outputs": [],
   "source": [
    "#Cargando los datos de la siguiente manera nos da una matriz de una dimensión, sin embargo nosotros queremos una matriz de dos dimensiones.\n",
    "data3 = np.genfromtxt('/Users/Joan/Documents/mis proyectos/Tecnologias/Proyecto numpy/government_expenditure1.csv', delimiter=';', names=True, dtype=None,encoding='utf-8' )\n",
    "print(data3[:5])"
   ]
  },
  {
   "cell_type": "code",
   "execution_count": null,
   "metadata": {},
   "outputs": [],
   "source": [
    "#Vamos a cargar el dataset de esta otra manera ya que me lo carga como una matriz de 2 dimensiones\n",
    "import csv\n",
    "\n",
    "# Abrir el archivo y crear un objeto CSV lejible\n",
    "with open('/Users/Joan/Documents/mis proyectos/Tecnologias/Proyecto numpy/government_expenditure1.csv', 'r') as f:\n",
    "    reader = csv.reader(f, delimiter=',')\n",
    "    \n",
    "    # Saltar la fila de cabezera\n",
    "    next(reader)\n",
    "    \n",
    "    # Inicializar una lista vacía para guardar los datos\n",
    "    data3 = []\n",
    "    \n",
    "    # Iterar sobre las filas del fichero\n",
    "    for row in reader:\n",
    "        # Omitir las filas con un número incorrecto de columnas\n",
    "        if len(row) != 11:\n",
    "            continue\n",
    "        # Procesar la fila y añadirla a la lista de datos\n",
    "        data3.append(row)\n",
    "\n",
    "# Convertir la lista de datos en una matriz numpy\n",
    "data3 = np.array(data3)\n",
    "\n",
    "\n",
    "print(data3[:5])"
   ]
  },
  {
   "cell_type": "code",
   "execution_count": null,
   "metadata": {},
   "outputs": [],
   "source": [
    "print(data3.shape)\n",
    "print(data3.size)\n",
    "print(data3.ndim)\n",
    "print(data3.dtype)\n"
   ]
  },
  {
   "attachments": {},
   "cell_type": "markdown",
   "metadata": {},
   "source": [
    "Indicador 1"
   ]
  },
  {
   "cell_type": "code",
   "execution_count": null,
   "metadata": {},
   "outputs": [],
   "source": [
    "#buscamos cuál ha sido el mayor government expenditure en cualquier año desde el 2012\n",
    "gov_exp = data3[:, 9]\n",
    "print(gov_exp)\n",
    "\n",
    "#hay que pasar a float ya que numpy.max() es una función que está diseñada para trabajar con números y no con strings\n",
    "gov_exp = [float(i) for i in gov_exp]\n",
    "max_gov_exp = np.max(gov_exp)\n",
    "print(max_gov_exp)\n",
    "\n"
   ]
  },
  {
   "cell_type": "code",
   "execution_count": null,
   "metadata": {},
   "outputs": [],
   "source": [
    "#El siguiente gráfico nos muestra cuanto se han gastado los goviernos de cada país en cada año \n",
    "x = data3[:, 9]\n",
    "y = data3[:, 8]\n",
    "plt.scatter(x, y)\n",
    "plt.show()"
   ]
  },
  {
   "attachments": {},
   "cell_type": "markdown",
   "metadata": {},
   "source": [
    "Indicador 2"
   ]
  },
  {
   "cell_type": "code",
   "execution_count": null,
   "metadata": {},
   "outputs": [],
   "source": [
    "#Quiero ordenar de mayor a menor el government expenditure\n",
    "gov_exp = data3[:, 9]\n",
    "print(gov_exp)\n",
    "\n",
    "gov_exp = [float(i) for i in gov_exp]\n",
    "\n",
    "gov_exp_ordenado = np.sort(gov_exp)\n",
    "print(gov_exp)\n"
   ]
  },
  {
   "attachments": {},
   "cell_type": "markdown",
   "metadata": {},
   "source": [
    "Indicador 3"
   ]
  },
  {
   "cell_type": "code",
   "execution_count": null,
   "metadata": {},
   "outputs": [],
   "source": [
    "#ahora buscamos cuál ha sido el menor government expenditure en cualquier año desde el 2012\n",
    "gov_exp = data3[:, 9]\n",
    "print(gov_exp)\n",
    "\n",
    "#volvemos a pasar a float ya que numpy.max() es una función que está diseñada para trabajar con números y no con strings\n",
    "gov_exp = [float(i) for i in gov_exp]\n",
    "min_gov_exp = np.min(gov_exp)\n",
    "print(min_gov_exp)"
   ]
  },
  {
   "attachments": {},
   "cell_type": "markdown",
   "metadata": {},
   "source": [
    "Indicador 4"
   ]
  },
  {
   "cell_type": "code",
   "execution_count": null,
   "metadata": {},
   "outputs": [],
   "source": [
    "#por último quiero calcular la media de government expenditure \n",
    "\n",
    "\n",
    "gov_exp = data3[:, 9]\n",
    "print(gov_exp)\n",
    "\n",
    "gov_exp = np.array(list(map(float, gov_exp)))\n",
    "mean = np.mean(gov_exp)\n",
    "print(mean)"
   ]
  },
  {
   "cell_type": "code",
   "execution_count": null,
   "metadata": {},
   "outputs": [],
   "source": [
    "#Para finalizar enseño un historiograma que muestra la distribución de frecuencia de un conjunto de datos en este caso cuantas veces se repite cada gasto del govierno\n",
    "data_column = data3[:,9]\n",
    "\n",
    "plt.hist(data_column)\n",
    "plt.xlabel('x axis')\n",
    "plt.ylabel('y axis')\n",
    "plt.title('Histogram')\n",
    "plt.show()"
   ]
  }
 ],
 "metadata": {
  "kernelspec": {
   "display_name": "Python 3",
   "language": "python",
   "name": "python3"
  },
  "language_info": {
   "codemirror_mode": {
    "name": "ipython",
    "version": 3
   },
   "file_extension": ".py",
   "mimetype": "text/x-python",
   "name": "python",
   "nbconvert_exporter": "python",
   "pygments_lexer": "ipython3",
   "version": "3.10.8"
  },
  "orig_nbformat": 4,
  "vscode": {
   "interpreter": {
    "hash": "61af77e2bbbbeba41220713aba45d7b5c4c671e430775f81e9701ae033e73efc"
   }
  }
 },
 "nbformat": 4,
 "nbformat_minor": 2
}
